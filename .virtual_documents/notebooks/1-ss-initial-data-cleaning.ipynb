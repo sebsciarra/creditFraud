#install rpy2 using pip install rpy2


get_ipython().run_line_magic("load_ext", " autoreload")
get_ipython().run_line_magic("autoreload", " 2")
get_ipython().run_line_magic("load_ext", " rpy2.ipython")


#python packages
import os
import pandas as pd
from pkgutil import get_data


import rpy2.robjects.packages as rpackages
# import R's utility package
utils = rpackages.importr('utils')

# select a mirror for R packages
#utils.chooseCRANmirror(ind=1) # select the first mirror in the list
#utils.install_packages('languageserver')


rpy2.ipython.rmagic.RMagics.R("""#install.packages("tidyverse")
library(tidyverse)
""", "")


# load the fraudTrain data set from the data/raw folder
#note data set can be found at
PROJ_ROOT = os.pardir #directory of creditCard_fraud project
path_data_raw = os.path.join(PROJ_ROOT, "data/raw")
data_fraud_train = pd.read_csv(filepath_or_buffer = os.path.join(path_data_raw, "fraudTrain.csv"))


data_fraud_train.info()


rpy2.ipython.rmagic.RMagics.R("""
#R packages
#install.packages("rlang")
PROJ_ROOT <- ".."  # directory of creditCard_fraud project (adjust as needed)

# Define the path to the raw data file
path_data_raw <- file.path(PROJ_ROOT, "data/raw")

# Read the CSV file into a data frame
data_fraud_train <- read.csv(file.path(path_data_raw, "fraudTrain.csv"))""", "")


rpy2.ipython.rmagic.RMagics.R("""glimpse(data_fraud_train)
data_fraud_train$cc_num""", "")


#descriptive text copied from https://www.kaggle.com/datasets/kartik2112/fraud-detection?select=fraudTrain.csv
text_full_description = """
index - Unique Identifier for each row
trans_date_trans_time - Transaction DateTime
cc_num - Credit Card Number of Customer
merchant - Merchant Name
category - Category of Merchant
amt - Amount of Transaction
first - First Name of Credit Card Holder
last - Last Name of Credit Card Holder
gender - Gender of Credit Card Holder
street - Street Address of Credit Card Holder
city - City of Credit Card Holder
state - State of Credit Card Holder
zip - Zip of Credit Card Holder
lat - Latitude Location of Credit Card Holder
long - Longitude Location of Credit Card Holder
city_pop - Credit Card Holder's City Population
job - Job of Credit Card Holder
dob - Date of Birth of Credit Card Holder
trans_num - Transaction Number
unix_time - UNIX Time of transaction
merch_lat - Latitude Location of Merchant
merch_long - Longitude Location of Merchant
is_fraud - Fraud Flag <--- Target Class
"""

# Split lines and extract content after the dash on each line
lines = text_full_description.strip().split('\n')
extracted_content = [line.split(' - ')[1].strip() for line in lines]

#insert column into df




#set index as ID value
#data_fraud_train.set_index(columns[0], inplace=True)
data_fraud_train.info()


get_ipython().run_line_magic("who", "")





#no missing data
print(data_fraud_train.isnull().mean())
