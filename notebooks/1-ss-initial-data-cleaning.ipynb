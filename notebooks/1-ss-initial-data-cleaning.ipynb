{
 "cells": [
  {
   "cell_type": "code",
   "execution_count": 1,
   "id": "02254cdd-e41b-4bc4-b10f-2575e06dcc0b",
   "metadata": {},
   "outputs": [],
   "source": [
    "# install rpy2 using pip install rpy2"
   ]
  },
  {
   "cell_type": "code",
   "execution_count": 1,
   "id": "33c10870-2ed0-429b-9e9b-34c114914b48",
   "metadata": {
    "tags": []
   },
   "outputs": [],
   "source": [
    "%load_ext autoreload\n",
    "%autoreload 2\n",
    "%load_ext rpy2.ipython"
   ]
  },
  {
   "cell_type": "code",
   "execution_count": 6,
   "id": "976937d4-541f-4824-b238-8ef1887fca4d",
   "metadata": {
    "tags": []
   },
   "outputs": [],
   "source": [
    "# python packages\n",
    "\n",
    "import os\n",
    "\n",
    "import numpy as np\n",
    "import pandas as pd\n",
    "import rpy2.robjects.packages as rpackages\n",
    "\n",
    "from creditfraud.add_numbers import add_numbers\n",
    "\n",
    "# import R's utility package\n",
    "utils = rpackages.importr(\"utils\")"
   ]
  },
  {
   "cell_type": "code",
   "execution_count": 9,
   "id": "a52de916-70ea-438b-9245-aac5c5c95431",
   "metadata": {
    "tags": []
   },
   "outputs": [
    {
     "data": {
      "text/plain": [
       "14"
      ]
     },
     "execution_count": 9,
     "metadata": {},
     "output_type": "execute_result"
    }
   ],
   "source": [
    "add_numbers(4, 5)"
   ]
  },
  {
   "cell_type": "code",
   "execution_count": 4,
   "id": "e756c52e-4ae0-48a4-9b9b-387448b59368",
   "metadata": {
    "tags": []
   },
   "outputs": [
    {
     "name": "stdout",
     "output_type": "stream",
     "text": [
      "── Attaching core tidyverse packages ──────────────────────── tidyverse 2.0.0 ──\n",
      "✔ dplyr     1.1.1     ✔ readr     2.1.4\n",
      "✔ forcats   1.0.0     ✔ stringr   1.5.0\n",
      "✔ ggplot2   3.4.3     ✔ tibble    3.2.1\n",
      "✔ lubridate 1.9.2     ✔ tidyr     1.3.0\n",
      "✔ purrr     1.0.1     \n",
      "── Conflicts ────────────────────────────────────────── tidyverse_conflicts() ──\n",
      "✖ dplyr::filter() masks stats::filter()\n",
      "✖ dplyr::lag()    masks stats::lag()\n",
      "ℹ Use the conflicted package (<http://conflicted.r-lib.org/>) to force all conflicts to become errors\n"
     ]
    }
   ],
   "source": [
    "%%R\n",
    "#install.packages(\"tidyverse\")\n",
    "library(tidyverse)\n"
   ]
  },
  {
   "cell_type": "code",
   "execution_count": null,
   "id": "5e60a93e",
   "metadata": {},
   "outputs": [
    {
     "name": "stdout",
     "output_type": "stream",
     "text": [
      "The autoreload extension is already loaded. To reload it, use:\n",
      "  %reload_ext autoreload\n"
     ]
    }
   ],
   "source": []
  },
  {
   "cell_type": "code",
   "execution_count": null,
   "id": "16569910",
   "metadata": {},
   "outputs": [
    {
     "ename": "ModuleNotFoundError",
     "evalue": "No module named 'src'",
     "output_type": "error",
     "traceback": [
      "\u001b[0;31m---------------------------------------------------------------------------\u001b[0m\n",
      "\u001b[0;31mModuleNotFoundError\u001b[0m                       Traceback (most recent call last)\n",
      "Cell \u001b[0;32mIn[8], line 4\u001b[0m\n",
      "\u001b[1;32m      2\u001b[0m \u001b[39mimport\u001b[39;00m \u001b[39mpandas\u001b[39;00m \u001b[39mas\u001b[39;00m \u001b[39mpd\u001b[39;00m\n",
      "\u001b[1;32m      3\u001b[0m \u001b[39mfrom\u001b[39;00m \u001b[39mpkgutil\u001b[39;00m \u001b[39mimport\u001b[39;00m get_data\n",
      "\u001b[0;32m----> 4\u001b[0m \u001b[39mfrom\u001b[39;00m \u001b[39msrc\u001b[39;00m\u001b[39m.\u001b[39;00m\u001b[39mcreditCard_fraud\u001b[39;00m\u001b[39m.\u001b[39;00m\u001b[39mexample_module\u001b[39;00m \u001b[39mimport\u001b[39;00m add_two_numbers\n",
      "\n",
      "\u001b[0;31mModuleNotFoundError\u001b[0m: No module named 'src'"
     ]
    }
   ],
   "source": []
  },
  {
   "cell_type": "code",
   "execution_count": null,
   "id": "81fec777",
   "metadata": {},
   "outputs": [],
   "source": []
  },
  {
   "cell_type": "code",
   "execution_count": null,
   "id": "1b4ee903",
   "metadata": {},
   "outputs": [],
   "source": []
  },
  {
   "cell_type": "code",
   "execution_count": 5,
   "id": "3956c944-2e27-48fc-acb7-21add421264d",
   "metadata": {
    "tags": []
   },
   "outputs": [],
   "source": [
    "# load the fraudTrain data set from the data/raw folder\n",
    "# note data set can be found at\n",
    "PROJ_ROOT = os.pardir  # directory of creditCard_fraud project\n",
    "path_data_raw = os.path.join(PROJ_ROOT, \"data/raw\")\n",
    "data_fraud_train = pd.read_csv(\n",
    "    filepath_or_buffer=os.path.join(path_data_raw, \"fraudTrain.csv\")\n",
    ")"
   ]
  },
  {
   "cell_type": "code",
   "execution_count": 5,
   "id": "010da661-a266-437a-a07a-0e7fb1267363",
   "metadata": {
    "tags": []
   },
   "outputs": [
    {
     "name": "stdout",
     "output_type": "stream",
     "text": [
      "<class 'pandas.core.frame.DataFrame'>\n",
      "RangeIndex: 1296675 entries, 0 to 1296674\n",
      "Data columns (total 23 columns):\n",
      " #   Column                 Non-Null Count    Dtype  \n",
      "---  ------                 --------------    -----  \n",
      " 0   Unnamed: 0             1296675 non-null  int64  \n",
      " 1   trans_date_trans_time  1296675 non-null  object \n",
      " 2   cc_num                 1296675 non-null  int64  \n",
      " 3   merchant               1296675 non-null  object \n",
      " 4   category               1296675 non-null  object \n",
      " 5   amt                    1296675 non-null  float64\n",
      " 6   first                  1296675 non-null  object \n",
      " 7   last                   1296675 non-null  object \n",
      " 8   gender                 1296675 non-null  object \n",
      " 9   street                 1296675 non-null  object \n",
      " 10  city                   1296675 non-null  object \n",
      " 11  state                  1296675 non-null  object \n",
      " 12  zip                    1296675 non-null  int64  \n",
      " 13  lat                    1296675 non-null  float64\n",
      " 14  long                   1296675 non-null  float64\n",
      " 15  city_pop               1296675 non-null  int64  \n",
      " 16  job                    1296675 non-null  object \n",
      " 17  dob                    1296675 non-null  object \n",
      " 18  trans_num              1296675 non-null  object \n",
      " 19  unix_time              1296675 non-null  int64  \n",
      " 20  merch_lat              1296675 non-null  float64\n",
      " 21  merch_long             1296675 non-null  float64\n",
      " 22  is_fraud               1296675 non-null  int64  \n",
      "dtypes: float64(5), int64(6), object(12)\n",
      "memory usage: 227.5+ MB\n"
     ]
    }
   ],
   "source": [
    "data_fraud_train.info()"
   ]
  },
  {
   "cell_type": "code",
   "execution_count": 6,
   "id": "b1e2d96e-fde7-41bb-93bc-48555f48404e",
   "metadata": {
    "tags": []
   },
   "outputs": [],
   "source": [
    "%%R \n",
    "#R packages\n",
    "#install.packages(\"rlang\")\n",
    "PROJ_ROOT <- \"..\"  # directory of creditCard_fraud project (adjust as needed)\n",
    "\n",
    "# Define the path to the raw data file\n",
    "path_data_raw <- file.path(PROJ_ROOT, \"data/raw\")\n",
    "\n",
    "# Read the CSV file into a data frame\n",
    "data_fraud_train <- read.csv(file.path(path_data_raw, \"fraudTrain.csv\"))"
   ]
  },
  {
   "cell_type": "code",
   "execution_count": 7,
   "id": "a6d16c50-26c3-4ea8-b488-e2aee4f2f3e6",
   "metadata": {},
   "outputs": [
    {
     "name": "stdout",
     "output_type": "stream",
     "text": [
      "Rows: 1,296,675\n",
      "Columns: 23\n",
      "$ X                     <int> 0, 1, 2, 3, 4, 5, 6, 7, 8, 9, 10, 11, 12, 13, 14…\n",
      "$ trans_date_trans_time <chr> \"2019-01-01 00:00:18\", \"2019-01-01 00:00:44\", \"2…\n",
      "$ cc_num                <dbl> 2.703186e+15, 6.304233e+11, 3.885949e+13, 3.5340…\n",
      "$ merchant              <chr> \"fraud_Rippin, Kub and Mann\", \"fraud_Heller, Gut…\n",
      "$ category              <chr> \"misc_net\", \"grocery_pos\", \"entertainment\", \"gas…\n",
      "$ amt                   <dbl> 4.97, 107.23, 220.11, 45.00, 41.96, 94.63, 44.54…\n",
      "$ first                 <chr> \"Jennifer\", \"Stephanie\", \"Edward\", \"Jeremy\", \"Ty…\n",
      "$ last                  <chr> \"Banks\", \"Gill\", \"Sanchez\", \"White\", \"Garcia\", \"…\n",
      "$ gender                <chr> \"F\", \"F\", \"M\", \"M\", \"M\", \"F\", \"F\", \"M\", \"F\", \"F\"…\n",
      "$ street                <chr> \"561 Perry Cove\", \"43039 Riley Greens Suite 393\"…\n",
      "$ city                  <chr> \"Moravian Falls\", \"Orient\", \"Malad City\", \"Bould…\n",
      "$ state                 <chr> \"NC\", \"WA\", \"ID\", \"MT\", \"VA\", \"PA\", \"KS\", \"VA\", …\n",
      "$ zip                   <int> 28654, 99160, 83252, 59632, 24433, 18917, 67851,…\n",
      "$ lat                   <dbl> 36.0788, 48.8878, 42.1808, 46.2306, 38.4207, 40.…\n",
      "$ long                  <dbl> -81.1781, -118.2105, -112.2620, -112.1138, -79.4…\n",
      "$ city_pop              <int> 3495, 149, 4154, 1939, 99, 2158, 2691, 6018, 147…\n",
      "$ job                   <chr> \"Psychologist, counselling\", \"Special educationa…\n",
      "$ dob                   <chr> \"1988-03-09\", \"1978-06-21\", \"1962-01-19\", \"1967-…\n",
      "$ trans_num             <chr> \"0b242abb623afc578575680df30655b9\", \"1f76529f857…\n",
      "$ unix_time             <int> 1325376018, 1325376044, 1325376051, 1325376076, …\n",
      "$ merch_lat             <dbl> 36.01129, 49.15905, 43.15070, 47.03433, 38.67500…\n",
      "$ merch_long            <dbl> -82.04832, -118.18646, -112.15448, -112.56107, -…\n",
      "$ is_fraud              <int> 0, 0, 0, 0, 0, 0, 0, 0, 0, 0, 0, 0, 0, 0, 0, 0, …\n"
     ]
    }
   ],
   "source": [
    "%%R\n",
    "glimpse(data_fraud_train)\n",
    "data_fraud_train$cc_num"
   ]
  },
  {
   "cell_type": "code",
   "execution_count": 7,
   "id": "c3c18ad3-8b8f-4cd2-9522-a3d4c8635d15",
   "metadata": {
    "tags": []
   },
   "outputs": [],
   "source": [
    "# descriptive text copied from https://www.kaggle.com/datasets/kartik2112/fraud-detection?select=fraudTrain.csv\n",
    "text_full_description = \"\"\"\n",
    "index - Unique Identifier for each row\n",
    "trans_date_trans_time - Transaction DateTime\n",
    "cc_num - Credit Card Number of Customer\n",
    "merchant - Merchant Name\n",
    "category - Category of Merchant\n",
    "amt - Amount of Transaction\n",
    "first - First Name of Credit Card Holder\n",
    "last - Last Name of Credit Card Holder\n",
    "gender - Gender of Credit Card Holder\n",
    "street - Street Address of Credit Card Holder\n",
    "city - City of Credit Card Holder\n",
    "state - State of Credit Card Holder\n",
    "zip - Zip of Credit Card Holder\n",
    "lat - Latitude Location of Credit Card Holder\n",
    "long - Longitude Location of Credit Card Holder\n",
    "city_pop - Credit Card Holder's City Population\n",
    "job - Job of Credit Card Holder\n",
    "dob - Date of Birth of Credit Card Holder\n",
    "trans_num - Transaction Number\n",
    "unix_time - UNIX Time of transaction\n",
    "merch_lat - Latitude Location of Merchant\n",
    "merch_long - Longitude Location of Merchant\n",
    "is_fraud - Fraud Flag <--- Target Class\n",
    "\"\"\"\n",
    "\n",
    "# Split lines and extract content after the dash on each line\n",
    "lines = text_full_description.strip().split(\"\\n\")\n",
    "extracted_content = [line.split(\" - \")[1].strip() for line in lines]\n",
    "\n",
    "# insert column into df"
   ]
  },
  {
   "cell_type": "code",
   "execution_count": 8,
   "id": "2b976758-a244-45c0-8319-40c73f4e0540",
   "metadata": {
    "tags": []
   },
   "outputs": [
    {
     "name": "stdout",
     "output_type": "stream",
     "text": [
      "<class 'pandas.core.frame.DataFrame'>\n",
      "RangeIndex: 1296675 entries, 0 to 1296674\n",
      "Data columns (total 23 columns):\n",
      " #   Column                 Non-Null Count    Dtype  \n",
      "---  ------                 --------------    -----  \n",
      " 0   Unnamed: 0             1296675 non-null  int64  \n",
      " 1   trans_date_trans_time  1296675 non-null  object \n",
      " 2   cc_num                 1296675 non-null  int64  \n",
      " 3   merchant               1296675 non-null  object \n",
      " 4   category               1296675 non-null  object \n",
      " 5   amt                    1296675 non-null  float64\n",
      " 6   first                  1296675 non-null  object \n",
      " 7   last                   1296675 non-null  object \n",
      " 8   gender                 1296675 non-null  object \n",
      " 9   street                 1296675 non-null  object \n",
      " 10  city                   1296675 non-null  object \n",
      " 11  state                  1296675 non-null  object \n",
      " 12  zip                    1296675 non-null  int64  \n",
      " 13  lat                    1296675 non-null  float64\n",
      " 14  long                   1296675 non-null  float64\n",
      " 15  city_pop               1296675 non-null  int64  \n",
      " 16  job                    1296675 non-null  object \n",
      " 17  dob                    1296675 non-null  object \n",
      " 18  trans_num              1296675 non-null  object \n",
      " 19  unix_time              1296675 non-null  int64  \n",
      " 20  merch_lat              1296675 non-null  float64\n",
      " 21  merch_long             1296675 non-null  float64\n",
      " 22  is_fraud               1296675 non-null  int64  \n",
      "dtypes: float64(5), int64(6), object(12)\n",
      "memory usage: 227.5+ MB\n"
     ]
    }
   ],
   "source": [
    "# set index as ID value\n",
    "# data_fraud_train.set_index(columns[0], inplace=True)\n",
    "data_fraud_train.info()"
   ]
  },
  {
   "cell_type": "code",
   "execution_count": 9,
   "id": "2defccd4-eb19-4481-bda5-679127f84d53",
   "metadata": {},
   "outputs": [
    {
     "name": "stdout",
     "output_type": "stream",
     "text": [
      "PROJ_ROOT\t data_fraud_train\t extracted_content\t get_data\t lines\t os\t path_data_raw\t pd\t rpackages\t \n",
      "text_full_description\t utils\t \n"
     ]
    }
   ],
   "source": [
    "%who"
   ]
  },
  {
   "cell_type": "code",
   "execution_count": null,
   "id": "d357183a-a1a5-46ca-bb6c-67118009e947",
   "metadata": {},
   "outputs": [],
   "source": []
  },
  {
   "cell_type": "code",
   "execution_count": 10,
   "id": "0a7c5bdd-63a4-4a15-a0b7-85b17f20cb67",
   "metadata": {
    "tags": []
   },
   "outputs": [
    {
     "name": "stdout",
     "output_type": "stream",
     "text": [
      "Unnamed: 0               0.0\n",
      "trans_date_trans_time    0.0\n",
      "cc_num                   0.0\n",
      "merchant                 0.0\n",
      "category                 0.0\n",
      "amt                      0.0\n",
      "first                    0.0\n",
      "last                     0.0\n",
      "gender                   0.0\n",
      "street                   0.0\n",
      "city                     0.0\n",
      "state                    0.0\n",
      "zip                      0.0\n",
      "lat                      0.0\n",
      "long                     0.0\n",
      "city_pop                 0.0\n",
      "job                      0.0\n",
      "dob                      0.0\n",
      "trans_num                0.0\n",
      "unix_time                0.0\n",
      "merch_lat                0.0\n",
      "merch_long               0.0\n",
      "is_fraud                 0.0\n",
      "dtype: float64\n"
     ]
    }
   ],
   "source": [
    "# no missing data\n",
    "print(data_fraud_train.isnull().mean())"
   ]
  }
 ],
 "metadata": {
  "kernelspec": {
   "display_name": "Python 3 (ipykernel)",
   "language": "python",
   "name": "python3"
  },
  "language_info": {
   "codemirror_mode": {
    "name": "ipython",
    "version": 3
   },
   "file_extension": ".py",
   "mimetype": "text/x-python",
   "name": "python",
   "nbconvert_exporter": "python",
   "pygments_lexer": "ipython3",
   "version": "3.11.4"
  }
 },
 "nbformat": 4,
 "nbformat_minor": 5
}
