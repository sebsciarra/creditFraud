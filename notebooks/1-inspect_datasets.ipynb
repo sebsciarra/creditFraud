{
 "cells": [
  {
   "cell_type": "code",
   "execution_count": 8,
   "id": "a40ef894",
   "metadata": {},
   "outputs": [
    {
     "name": "stdout",
     "output_type": "stream",
     "text": [
      "The autoreload extension is already loaded. To reload it, use:\n",
      "  %reload_ext autoreload\n"
     ]
    }
   ],
   "source": [
    "%load_ext autoreload\n",
    "%autoreload 2"
   ]
  },
  {
   "cell_type": "code",
   "execution_count": 11,
   "id": "976937d4-541f-4824-b238-8ef1887fca4d",
   "metadata": {
    "tags": []
   },
   "outputs": [
    {
     "ename": "ModuleNotFoundError",
     "evalue": "No module named 'creditfraud'",
     "output_type": "error",
     "traceback": [
      "\u001b[0;31m---------------------------------------------------------------------------\u001b[0m",
      "\u001b[0;31mModuleNotFoundError\u001b[0m                       Traceback (most recent call last)",
      "Cell \u001b[0;32mIn[11], line 4\u001b[0m\n\u001b[1;32m      2\u001b[0m \u001b[39mimport\u001b[39;00m \u001b[39mpandas\u001b[39;00m \u001b[39mas\u001b[39;00m \u001b[39mpd\u001b[39;00m\n\u001b[1;32m      3\u001b[0m \u001b[39mfrom\u001b[39;00m \u001b[39mpkgutil\u001b[39;00m \u001b[39mimport\u001b[39;00m get_data\n\u001b[0;32m----> 4\u001b[0m \u001b[39mfrom\u001b[39;00m \u001b[39mcreditfraud\u001b[39;00m\u001b[39m.\u001b[39;00m\u001b[39madd_numbers\u001b[39;00m \u001b[39mimport\u001b[39;00m add_numbers\n",
      "\u001b[0;31mModuleNotFoundError\u001b[0m: No module named 'creditfraud'"
     ]
    }
   ],
   "source": [
    "import os \n",
    "import pandas as pd\n",
    "from pkgutil import get_data\n",
    "from creditfraud.add_numbers import add_numbers"
   ]
  },
  {
   "cell_type": "code",
   "execution_count": null,
   "id": "3956c944-2e27-48fc-acb7-21add421264d",
   "metadata": {
    "tags": []
   },
   "outputs": [],
   "source": [
    "#load the fraudTrain data set from the data/raw folder \n",
    "PROJ_ROOT = os.pardir #directory of creditCard_fraud project \n",
    "path_data_raw = os.path.join(PROJ_ROOT, \"data/raw\")\n",
    "data_fraud_train = pd.read_csv(filepath_or_buffer = os.path.join(path_data_raw, \"fraudTrain.csv\"))\n",
    "        "
   ]
  },
  {
   "cell_type": "code",
   "execution_count": null,
   "id": "a52ec467-8790-4f02-aa20-eb53d5ebb7b5",
   "metadata": {},
   "outputs": [],
   "source": []
  }
 ],
 "metadata": {
  "kernelspec": {
   "display_name": "Python 3 (ipykernel)",
   "language": "python",
   "name": "python3"
  },
  "language_info": {
   "codemirror_mode": {
    "name": "ipython",
    "version": 3
   },
   "file_extension": ".py",
   "mimetype": "text/x-python",
   "name": "python",
   "nbconvert_exporter": "python",
   "pygments_lexer": "ipython3",
   "version": "3.11.4"
  }
 },
 "nbformat": 4,
 "nbformat_minor": 5
}
